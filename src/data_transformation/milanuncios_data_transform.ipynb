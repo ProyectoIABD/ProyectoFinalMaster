{
 "cells": [
  {
   "cell_type": "code",
   "execution_count": null,
   "id": "d2b2d956",
   "metadata": {},
   "outputs": [],
   "source": [
    "from sentence_transformers import SentenceTransformer\n",
    "import pandas as pd\n",
    "import pickle"
   ]
  },
  {
   "cell_type": "code",
   "execution_count": null,
   "id": "97aca1a9",
   "metadata": {},
   "outputs": [],
   "source": [
    "#Dataframe\n",
    "df = pd.read_csv(\"../../data/raw/milanuncios.com.csv\")\n",
    "df.drop(columns=[\"Unnamed: 0\"], inplace=True)\n",
    "\n",
    "#Sentence Transformer\n",
    "model_sentence = SentenceTransformer(\"all-MiniLM-L6-v2\")\n",
    "\n",
    "#Classifier model for text\n",
    "with open('../modeling/trained/modelo_texto.pkl', 'rb') as f:\n",
    "    modelo_texto = pickle.load(f)\n"
   ]
  },
  {
   "cell_type": "code",
   "execution_count": 19,
   "id": "abda4d0a",
   "metadata": {},
   "outputs": [
    {
     "data": {
      "text/plain": [
       "Index(['TESLA - MODEL 3', 'CUPRA - FORMENTOR', 'CUPRA - LEON',\n",
       "       'PORSCHE - CAYENNE', 'AUDI - A3', 'AUDI - A4', 'BMW - X2',\n",
       "       'BMW - SERIE', 'TESLA - MODEL Y', 'PORSCHE - PANAMERA',\n",
       "       'TESLA - MODEL S', 'PORSCHE - TAYCAN', 'AUDI - A6', 'PORSCHE - 911',\n",
       "       'BMW - X1', 'PORSCHE - MACAN', 'TESLA - MODEL X', 'CUPRA - TERRAMAR',\n",
       "       'CUPRA - ATECA', 'AUDI - A5', 'BMW - X3', 'BMW - X5', 'BMW - COMPACT',\n",
       "       'PORSCHE - BOXSTER', 'CUPRA - BORN', 'BMW - X6', 'AUDI - TT',\n",
       "       'AUDI - A1', 'AUDI - Q3', 'BMW - Z4'],\n",
       "      dtype='object', name='car_type')"
      ]
     },
     "execution_count": 19,
     "metadata": {},
     "output_type": "execute_result"
    }
   ],
   "source": [
    "top_30_coches = df['car_type'].value_counts().nlargest(30).index\n",
    "top_30_coches"
   ]
  },
  {
   "cell_type": "code",
   "execution_count": 18,
   "id": "94712eb0",
   "metadata": {},
   "outputs": [
    {
     "data": {
      "text/html": [
       "<div>\n",
       "<style scoped>\n",
       "    .dataframe tbody tr th:only-of-type {\n",
       "        vertical-align: middle;\n",
       "    }\n",
       "\n",
       "    .dataframe tbody tr th {\n",
       "        vertical-align: top;\n",
       "    }\n",
       "\n",
       "    .dataframe thead th {\n",
       "        text-align: right;\n",
       "    }\n",
       "</style>\n",
       "<table border=\"1\" class=\"dataframe\">\n",
       "  <thead>\n",
       "    <tr style=\"text-align: right;\">\n",
       "      <th></th>\n",
       "      <th>car_type</th>\n",
       "      <th>year</th>\n",
       "      <th>price</th>\n",
       "      <th>km</th>\n",
       "      <th>description</th>\n",
       "      <th>photo_url</th>\n",
       "    </tr>\n",
       "  </thead>\n",
       "  <tbody>\n",
       "    <tr>\n",
       "      <th>0</th>\n",
       "      <td>TESLA - MODEL 3</td>\n",
       "      <td>2022</td>\n",
       "      <td>32.990 €</td>\n",
       "      <td>67.405 kms</td>\n",
       "      <td>Precio al contado: 32.990€ precio alternativo ...</td>\n",
       "      <td>https://images.milanuncios.com/api/v1/ma-ad-me...</td>\n",
       "    </tr>\n",
       "    <tr>\n",
       "      <th>1</th>\n",
       "      <td>TESLA - MODEL S</td>\n",
       "      <td>2019</td>\n",
       "      <td>46.500 €</td>\n",
       "      <td>37.500 kms</td>\n",
       "      <td>Ocasionplus - 12000 coches - 100 centros ocasi...</td>\n",
       "      <td>https://images.milanuncios.com/api/v1/ma-ad-me...</td>\n",
       "    </tr>\n",
       "    <tr>\n",
       "      <th>2</th>\n",
       "      <td>TESLA - MODEL X</td>\n",
       "      <td>2018</td>\n",
       "      <td>37.490 €</td>\n",
       "      <td>140.261 kms</td>\n",
       "      <td>Precio al contado: 37.490€ precio alternativo ...</td>\n",
       "      <td>https://images.milanuncios.com/api/v1/ma-ad-me...</td>\n",
       "    </tr>\n",
       "    <tr>\n",
       "      <th>3</th>\n",
       "      <td>TESLA - MODEL Y</td>\n",
       "      <td>2023</td>\n",
       "      <td>36.900 €</td>\n",
       "      <td>33.000 kms</td>\n",
       "      <td>AÑO 2023 GARANTÍA TESLA Motor dual, tracción 4...</td>\n",
       "      <td>https://images.milanuncios.com/api/v1/ma-ad-me...</td>\n",
       "    </tr>\n",
       "    <tr>\n",
       "      <th>4</th>\n",
       "      <td>TESLA - MODEL Y</td>\n",
       "      <td>2023</td>\n",
       "      <td>44.990 €</td>\n",
       "      <td>29.000 kms</td>\n",
       "      <td>Interesados llamar al 680684213 -Único propiet...</td>\n",
       "      <td>https://images.milanuncios.com/api/v1/ma-ad-me...</td>\n",
       "    </tr>\n",
       "    <tr>\n",
       "      <th>...</th>\n",
       "      <td>...</td>\n",
       "      <td>...</td>\n",
       "      <td>...</td>\n",
       "      <td>...</td>\n",
       "      <td>...</td>\n",
       "      <td>...</td>\n",
       "    </tr>\n",
       "    <tr>\n",
       "      <th>2020</th>\n",
       "      <td>CUPRA - LEON</td>\n",
       "      <td>2025</td>\n",
       "      <td>34.305 €</td>\n",
       "      <td>0 kms</td>\n",
       "      <td>Precio pago al contado: 34.305 €, consultar ca...</td>\n",
       "      <td>https://images.milanuncios.com/api/v1/ma-ad-me...</td>\n",
       "    </tr>\n",
       "    <tr>\n",
       "      <th>2021</th>\n",
       "      <td>CUPRA - LEON</td>\n",
       "      <td>2025</td>\n",
       "      <td>28.885 €</td>\n",
       "      <td>0 kms</td>\n",
       "      <td>Precio pago al contado: 28.885 €, consultar ca...</td>\n",
       "      <td>https://images.milanuncios.com/api/v1/ma-ad-me...</td>\n",
       "    </tr>\n",
       "    <tr>\n",
       "      <th>2022</th>\n",
       "      <td>CUPRA - FORMENTOR</td>\n",
       "      <td>2025</td>\n",
       "      <td>49.400 €</td>\n",
       "      <td>3.500 kms</td>\n",
       "      <td>Cupra formentor vz atendemos solo con cita pre...</td>\n",
       "      <td>https://images.milanuncios.com/api/v1/ma-ad-me...</td>\n",
       "    </tr>\n",
       "    <tr>\n",
       "      <th>2024</th>\n",
       "      <td>CUPRA - LEON</td>\n",
       "      <td>2025</td>\n",
       "      <td>44.600 €</td>\n",
       "      <td>0 kms</td>\n",
       "      <td>Exclusiva oferta online en talleres rubens, co...</td>\n",
       "      <td>https://images.milanuncios.com/api/v1/ma-ad-me...</td>\n",
       "    </tr>\n",
       "    <tr>\n",
       "      <th>2025</th>\n",
       "      <td>CUPRA - FORMENTOR</td>\n",
       "      <td>2022</td>\n",
       "      <td>28.900 €</td>\n",
       "      <td>35.200 kms</td>\n",
       "      <td>Autocyl ocasiÓn exposición con + de 100 vehícu...</td>\n",
       "      <td>https://images.milanuncios.com/api/v1/ma-ad-me...</td>\n",
       "    </tr>\n",
       "  </tbody>\n",
       "</table>\n",
       "<p>1861 rows × 6 columns</p>\n",
       "</div>"
      ],
      "text/plain": [
       "               car_type  year     price           km  \\\n",
       "0       TESLA - MODEL 3  2022  32.990 €   67.405 kms   \n",
       "1       TESLA - MODEL S  2019  46.500 €   37.500 kms   \n",
       "2       TESLA - MODEL X  2018  37.490 €  140.261 kms   \n",
       "3       TESLA - MODEL Y  2023  36.900 €   33.000 kms   \n",
       "4       TESLA - MODEL Y  2023  44.990 €   29.000 kms   \n",
       "...                 ...   ...       ...          ...   \n",
       "2020       CUPRA - LEON  2025  34.305 €        0 kms   \n",
       "2021       CUPRA - LEON  2025  28.885 €        0 kms   \n",
       "2022  CUPRA - FORMENTOR  2025  49.400 €    3.500 kms   \n",
       "2024       CUPRA - LEON  2025  44.600 €        0 kms   \n",
       "2025  CUPRA - FORMENTOR  2022  28.900 €   35.200 kms   \n",
       "\n",
       "                                            description  \\\n",
       "0     Precio al contado: 32.990€ precio alternativo ...   \n",
       "1     Ocasionplus - 12000 coches - 100 centros ocasi...   \n",
       "2     Precio al contado: 37.490€ precio alternativo ...   \n",
       "3     AÑO 2023 GARANTÍA TESLA Motor dual, tracción 4...   \n",
       "4     Interesados llamar al 680684213 -Único propiet...   \n",
       "...                                                 ...   \n",
       "2020  Precio pago al contado: 34.305 €, consultar ca...   \n",
       "2021  Precio pago al contado: 28.885 €, consultar ca...   \n",
       "2022  Cupra formentor vz atendemos solo con cita pre...   \n",
       "2024  Exclusiva oferta online en talleres rubens, co...   \n",
       "2025  Autocyl ocasiÓn exposición con + de 100 vehícu...   \n",
       "\n",
       "                                              photo_url  \n",
       "0     https://images.milanuncios.com/api/v1/ma-ad-me...  \n",
       "1     https://images.milanuncios.com/api/v1/ma-ad-me...  \n",
       "2     https://images.milanuncios.com/api/v1/ma-ad-me...  \n",
       "3     https://images.milanuncios.com/api/v1/ma-ad-me...  \n",
       "4     https://images.milanuncios.com/api/v1/ma-ad-me...  \n",
       "...                                                 ...  \n",
       "2020  https://images.milanuncios.com/api/v1/ma-ad-me...  \n",
       "2021  https://images.milanuncios.com/api/v1/ma-ad-me...  \n",
       "2022  https://images.milanuncios.com/api/v1/ma-ad-me...  \n",
       "2024  https://images.milanuncios.com/api/v1/ma-ad-me...  \n",
       "2025  https://images.milanuncios.com/api/v1/ma-ad-me...  \n",
       "\n",
       "[1861 rows x 6 columns]"
      ]
     },
     "execution_count": 18,
     "metadata": {},
     "output_type": "execute_result"
    }
   ],
   "source": [
    "df_top30 = df[df['car_type'].isin(top_30_coches)].copy()\n",
    "df_top30"
   ]
  },
  {
   "cell_type": "code",
   "execution_count": 25,
   "id": "1b8f598b",
   "metadata": {},
   "outputs": [
    {
     "data": {
      "text/plain": [
       "car_type       0\n",
       "year           0\n",
       "price          0\n",
       "km             0\n",
       "description    0\n",
       "photo_url      0\n",
       "dtype: int64"
      ]
     },
     "execution_count": 25,
     "metadata": {},
     "output_type": "execute_result"
    }
   ],
   "source": [
    "df_top30.isna().sum()"
   ]
  },
  {
   "cell_type": "code",
   "execution_count": null,
   "id": "0e9e4250",
   "metadata": {},
   "outputs": [
    {
     "name": "stdout",
     "output_type": "stream",
     "text": [
      "Número de descripciones que contienen 'cv': 212\n"
     ]
    }
   ],
   "source": [
    "conteo_cv = df_top30['description'].str.contains(r'\\bcv\\b', case=False, na=False).sum()\n",
    "print(f\"Número de descripciones que contienen 'cv': {conteo_cv}\")"
   ]
  },
  {
   "cell_type": "code",
   "execution_count": null,
   "id": "c49823b4",
   "metadata": {},
   "outputs": [],
   "source": [
    "descripciones = df_top30[\"description\"].fillna(\"\")"
   ]
  },
  {
   "cell_type": "code",
   "execution_count": null,
   "id": "b3730e2c",
   "metadata": {},
   "outputs": [],
   "source": [
    "desc_encoded = model_sentence.encode(descripciones)\n",
    "\n",
    "predicciones = modelo_texto.predict(desc_encoded)\n",
    "df_top30[\"prediccion\"] = predicciones"
   ]
  },
  {
   "cell_type": "code",
   "execution_count": null,
   "id": "d4ce00c9",
   "metadata": {},
   "outputs": [],
   "source": [
    "df.to_csv('../transformed/milanuncios_predi.csv', index=False)"
   ]
  }
 ],
 "metadata": {
  "kernelspec": {
   "display_name": "Python 3",
   "language": "python",
   "name": "python3"
  },
  "language_info": {
   "codemirror_mode": {
    "name": "ipython",
    "version": 3
   },
   "file_extension": ".py",
   "mimetype": "text/x-python",
   "name": "python",
   "nbconvert_exporter": "python",
   "pygments_lexer": "ipython3",
   "version": "3.13.0"
  }
 },
 "nbformat": 4,
 "nbformat_minor": 5
}
