{
 "cells": [
  {
   "cell_type": "code",
   "execution_count": 36,
   "id": "60409e48",
   "metadata": {},
   "outputs": [],
   "source": [
    "import pandas as pd\n",
    "from sklearn.ensemble import RandomForestRegressor\n",
    "from sklearn.model_selection import train_test_split\n",
    "from sklearn.metrics import root_mean_squared_error\n",
    "from sklearn.preprocessing import LabelEncoder"
   ]
  },
  {
   "cell_type": "code",
   "execution_count": 4,
   "id": "ebdb7602",
   "metadata": {},
   "outputs": [],
   "source": [
    "df = pd.read_csv('../../../data/processed/full_data.csv')"
   ]
  },
  {
   "cell_type": "code",
   "execution_count": 16,
   "id": "9102ae39",
   "metadata": {},
   "outputs": [
    {
     "data": {
      "text/plain": [
       "photo_url     object\n",
       "car_type      object\n",
       "year           int64\n",
       "price          int64\n",
       "km             int64\n",
       "prediccion    object\n",
       "dtype: object"
      ]
     },
     "execution_count": 16,
     "metadata": {},
     "output_type": "execute_result"
    }
   ],
   "source": [
    "df.dtypes"
   ]
  },
  {
   "cell_type": "code",
   "execution_count": 11,
   "id": "ed037368",
   "metadata": {},
   "outputs": [],
   "source": [
    "df = df[df['year'] != 'eléctrico']"
   ]
  },
  {
   "cell_type": "code",
   "execution_count": 15,
   "id": "0dd44364",
   "metadata": {},
   "outputs": [
    {
     "name": "stderr",
     "output_type": "stream",
     "text": [
      "C:\\Users\\victo\\AppData\\Local\\Temp\\ipykernel_8084\\1483339248.py:1: SettingWithCopyWarning: \n",
      "A value is trying to be set on a copy of a slice from a DataFrame.\n",
      "Try using .loc[row_indexer,col_indexer] = value instead\n",
      "\n",
      "See the caveats in the documentation: https://pandas.pydata.org/pandas-docs/stable/user_guide/indexing.html#returning-a-view-versus-a-copy\n",
      "  df['year'] = df['year'].astype(int)\n"
     ]
    }
   ],
   "source": [
    "df['year'] = df['year'].astype(int)"
   ]
  },
  {
   "cell_type": "code",
   "execution_count": 17,
   "id": "b890e86c",
   "metadata": {},
   "outputs": [
    {
     "name": "stderr",
     "output_type": "stream",
     "text": [
      "C:\\Users\\victo\\AppData\\Local\\Temp\\ipykernel_8084\\1698039266.py:1: SettingWithCopyWarning: \n",
      "A value is trying to be set on a copy of a slice from a DataFrame\n",
      "\n",
      "See the caveats in the documentation: https://pandas.pydata.org/pandas-docs/stable/user_guide/indexing.html#returning-a-view-versus-a-copy\n",
      "  df.drop(columns='photo_url', inplace=True)\n"
     ]
    }
   ],
   "source": [
    "df.drop(columns='photo_url', inplace=True)"
   ]
  },
  {
   "cell_type": "code",
   "execution_count": 19,
   "id": "6ac85a0a",
   "metadata": {},
   "outputs": [
    {
     "name": "stderr",
     "output_type": "stream",
     "text": [
      "C:\\Users\\victo\\AppData\\Local\\Temp\\ipykernel_8084\\4089813375.py:3: SettingWithCopyWarning: \n",
      "A value is trying to be set on a copy of a slice from a DataFrame.\n",
      "Try using .loc[row_indexer,col_indexer] = value instead\n",
      "\n",
      "See the caveats in the documentation: https://pandas.pydata.org/pandas-docs/stable/user_guide/indexing.html#returning-a-view-versus-a-copy\n",
      "  df['car_type_encoded'] = LE.fit_transform(df['car_type'])\n"
     ]
    },
    {
     "data": {
      "text/html": [
       "<div>\n",
       "<style scoped>\n",
       "    .dataframe tbody tr th:only-of-type {\n",
       "        vertical-align: middle;\n",
       "    }\n",
       "\n",
       "    .dataframe tbody tr th {\n",
       "        vertical-align: top;\n",
       "    }\n",
       "\n",
       "    .dataframe thead th {\n",
       "        text-align: right;\n",
       "    }\n",
       "</style>\n",
       "<table border=\"1\" class=\"dataframe\">\n",
       "  <thead>\n",
       "    <tr style=\"text-align: right;\">\n",
       "      <th></th>\n",
       "      <th>car_type</th>\n",
       "      <th>year</th>\n",
       "      <th>price</th>\n",
       "      <th>km</th>\n",
       "      <th>prediccion</th>\n",
       "      <th>car_type_encoded</th>\n",
       "    </tr>\n",
       "  </thead>\n",
       "  <tbody>\n",
       "    <tr>\n",
       "      <th>0</th>\n",
       "      <td>BMW - SERIE 1</td>\n",
       "      <td>2021</td>\n",
       "      <td>19490</td>\n",
       "      <td>85977</td>\n",
       "      <td>neutral</td>\n",
       "      <td>13</td>\n",
       "    </tr>\n",
       "    <tr>\n",
       "      <th>1</th>\n",
       "      <td>AUDI - A1</td>\n",
       "      <td>2017</td>\n",
       "      <td>16490</td>\n",
       "      <td>48836</td>\n",
       "      <td>neutral</td>\n",
       "      <td>0</td>\n",
       "    </tr>\n",
       "    <tr>\n",
       "      <th>2</th>\n",
       "      <td>BMW - Z4</td>\n",
       "      <td>2022</td>\n",
       "      <td>40790</td>\n",
       "      <td>54486</td>\n",
       "      <td>neutral</td>\n",
       "      <td>26</td>\n",
       "    </tr>\n",
       "    <tr>\n",
       "      <th>3</th>\n",
       "      <td>BMW - SERIE 1</td>\n",
       "      <td>2020</td>\n",
       "      <td>21590</td>\n",
       "      <td>61215</td>\n",
       "      <td>neutral</td>\n",
       "      <td>13</td>\n",
       "    </tr>\n",
       "    <tr>\n",
       "      <th>4</th>\n",
       "      <td>BMW - SERIE 1</td>\n",
       "      <td>2022</td>\n",
       "      <td>23990</td>\n",
       "      <td>93881</td>\n",
       "      <td>neutral</td>\n",
       "      <td>13</td>\n",
       "    </tr>\n",
       "    <tr>\n",
       "      <th>...</th>\n",
       "      <td>...</td>\n",
       "      <td>...</td>\n",
       "      <td>...</td>\n",
       "      <td>...</td>\n",
       "      <td>...</td>\n",
       "      <td>...</td>\n",
       "    </tr>\n",
       "    <tr>\n",
       "      <th>2901</th>\n",
       "      <td>CUPRA - LEON</td>\n",
       "      <td>2025</td>\n",
       "      <td>34305</td>\n",
       "      <td>0</td>\n",
       "      <td>bueno</td>\n",
       "      <td>30</td>\n",
       "    </tr>\n",
       "    <tr>\n",
       "      <th>2902</th>\n",
       "      <td>CUPRA - LEON</td>\n",
       "      <td>2025</td>\n",
       "      <td>28885</td>\n",
       "      <td>0</td>\n",
       "      <td>bueno</td>\n",
       "      <td>30</td>\n",
       "    </tr>\n",
       "    <tr>\n",
       "      <th>2903</th>\n",
       "      <td>CUPRA - FORMENTOR</td>\n",
       "      <td>2025</td>\n",
       "      <td>49400</td>\n",
       "      <td>3500</td>\n",
       "      <td>neutral</td>\n",
       "      <td>29</td>\n",
       "    </tr>\n",
       "    <tr>\n",
       "      <th>2904</th>\n",
       "      <td>CUPRA - LEON</td>\n",
       "      <td>2025</td>\n",
       "      <td>44600</td>\n",
       "      <td>0</td>\n",
       "      <td>bueno</td>\n",
       "      <td>30</td>\n",
       "    </tr>\n",
       "    <tr>\n",
       "      <th>2905</th>\n",
       "      <td>CUPRA - FORMENTOR</td>\n",
       "      <td>2022</td>\n",
       "      <td>28900</td>\n",
       "      <td>35200</td>\n",
       "      <td>bueno</td>\n",
       "      <td>29</td>\n",
       "    </tr>\n",
       "  </tbody>\n",
       "</table>\n",
       "<p>2905 rows × 6 columns</p>\n",
       "</div>"
      ],
      "text/plain": [
       "               car_type  year  price     km prediccion  car_type_encoded\n",
       "0         BMW - SERIE 1  2021  19490  85977    neutral                13\n",
       "1             AUDI - A1  2017  16490  48836    neutral                 0\n",
       "2              BMW - Z4  2022  40790  54486    neutral                26\n",
       "3         BMW - SERIE 1  2020  21590  61215    neutral                13\n",
       "4         BMW - SERIE 1  2022  23990  93881    neutral                13\n",
       "...                 ...   ...    ...    ...        ...               ...\n",
       "2901       CUPRA - LEON  2025  34305      0      bueno                30\n",
       "2902       CUPRA - LEON  2025  28885      0      bueno                30\n",
       "2903  CUPRA - FORMENTOR  2025  49400   3500    neutral                29\n",
       "2904       CUPRA - LEON  2025  44600      0      bueno                30\n",
       "2905  CUPRA - FORMENTOR  2022  28900  35200      bueno                29\n",
       "\n",
       "[2905 rows x 6 columns]"
      ]
     },
     "execution_count": 19,
     "metadata": {},
     "output_type": "execute_result"
    }
   ],
   "source": [
    "LE = LabelEncoder()\n",
    "\n",
    "df['car_type_encoded'] = LE.fit_transform(df['car_type'])\n",
    "\n",
    "df"
   ]
  },
  {
   "cell_type": "code",
   "execution_count": 20,
   "id": "8d285f0c",
   "metadata": {},
   "outputs": [],
   "source": [
    "import random"
   ]
  },
  {
   "cell_type": "code",
   "execution_count": 21,
   "id": "4923b89e",
   "metadata": {},
   "outputs": [
    {
     "name": "stdout",
     "output_type": "stream",
     "text": [
      "               car_type  year  price     km prediccion  car_type_encoded  \\\n",
      "0         BMW - SERIE 1  2021  19490  85977    neutral                13   \n",
      "1             AUDI - A1  2017  16490  48836    neutral                 0   \n",
      "2              BMW - Z4  2022  40790  54486    neutral                26   \n",
      "3         BMW - SERIE 1  2020  21590  61215    neutral                13   \n",
      "4         BMW - SERIE 1  2022  23990  93881    neutral                13   \n",
      "...                 ...   ...    ...    ...        ...               ...   \n",
      "2901       CUPRA - LEON  2025  34305      0      bueno                30   \n",
      "2902       CUPRA - LEON  2025  28885      0      bueno                30   \n",
      "2903  CUPRA - FORMENTOR  2025  49400   3500    neutral                29   \n",
      "2904       CUPRA - LEON  2025  44600      0      bueno                30   \n",
      "2905  CUPRA - FORMENTOR  2022  28900  35200      bueno                29   \n",
      "\n",
      "     car_color  \n",
      "0        White  \n",
      "1        Green  \n",
      "2        White  \n",
      "3          Red  \n",
      "4        Green  \n",
      "...        ...  \n",
      "2901     White  \n",
      "2902     Black  \n",
      "2903     Green  \n",
      "2904      Blue  \n",
      "2905     Green  \n",
      "\n",
      "[2905 rows x 7 columns]\n"
     ]
    },
    {
     "name": "stderr",
     "output_type": "stream",
     "text": [
      "C:\\Users\\victo\\AppData\\Local\\Temp\\ipykernel_8084\\2103242535.py:4: SettingWithCopyWarning: \n",
      "A value is trying to be set on a copy of a slice from a DataFrame.\n",
      "Try using .loc[row_indexer,col_indexer] = value instead\n",
      "\n",
      "See the caveats in the documentation: https://pandas.pydata.org/pandas-docs/stable/user_guide/indexing.html#returning-a-view-versus-a-copy\n",
      "  df['car_color'] = [random.choice(colors) for _ in range(len(df))]\n"
     ]
    }
   ],
   "source": [
    "colors = ['Red', 'Blue', 'Green', 'Black', 'White', 'Silver', 'Yellow']\n",
    "\n",
    "# Asignar aleatoriamente un color a cada fila\n",
    "df['car_color'] = [random.choice(colors) for _ in range(len(df))]\n",
    "\n",
    "print(df)"
   ]
  },
  {
   "cell_type": "code",
   "execution_count": 22,
   "id": "8818a85e",
   "metadata": {},
   "outputs": [
    {
     "name": "stderr",
     "output_type": "stream",
     "text": [
      "C:\\Users\\victo\\AppData\\Local\\Temp\\ipykernel_8084\\3575061374.py:1: SettingWithCopyWarning: \n",
      "A value is trying to be set on a copy of a slice from a DataFrame.\n",
      "Try using .loc[row_indexer,col_indexer] = value instead\n",
      "\n",
      "See the caveats in the documentation: https://pandas.pydata.org/pandas-docs/stable/user_guide/indexing.html#returning-a-view-versus-a-copy\n",
      "  df['car_color_encoded'] = LE.fit_transform(df['car_color'])\n"
     ]
    }
   ],
   "source": [
    "df['car_color_encoded'] = LE.fit_transform(df['car_color'])"
   ]
  },
  {
   "cell_type": "code",
   "execution_count": 26,
   "id": "87eedc50",
   "metadata": {},
   "outputs": [
    {
     "data": {
      "text/html": [
       "<div>\n",
       "<style scoped>\n",
       "    .dataframe tbody tr th:only-of-type {\n",
       "        vertical-align: middle;\n",
       "    }\n",
       "\n",
       "    .dataframe tbody tr th {\n",
       "        vertical-align: top;\n",
       "    }\n",
       "\n",
       "    .dataframe thead th {\n",
       "        text-align: right;\n",
       "    }\n",
       "</style>\n",
       "<table border=\"1\" class=\"dataframe\">\n",
       "  <thead>\n",
       "    <tr style=\"text-align: right;\">\n",
       "      <th></th>\n",
       "      <th>year</th>\n",
       "      <th>price</th>\n",
       "      <th>km</th>\n",
       "      <th>prediccion</th>\n",
       "      <th>car_type_encoded</th>\n",
       "      <th>car_color_encoded</th>\n",
       "    </tr>\n",
       "  </thead>\n",
       "  <tbody>\n",
       "    <tr>\n",
       "      <th>0</th>\n",
       "      <td>2021</td>\n",
       "      <td>19490</td>\n",
       "      <td>85977</td>\n",
       "      <td>neutral</td>\n",
       "      <td>13</td>\n",
       "      <td>5</td>\n",
       "    </tr>\n",
       "    <tr>\n",
       "      <th>1</th>\n",
       "      <td>2017</td>\n",
       "      <td>16490</td>\n",
       "      <td>48836</td>\n",
       "      <td>neutral</td>\n",
       "      <td>0</td>\n",
       "      <td>2</td>\n",
       "    </tr>\n",
       "    <tr>\n",
       "      <th>2</th>\n",
       "      <td>2022</td>\n",
       "      <td>40790</td>\n",
       "      <td>54486</td>\n",
       "      <td>neutral</td>\n",
       "      <td>26</td>\n",
       "      <td>5</td>\n",
       "    </tr>\n",
       "    <tr>\n",
       "      <th>3</th>\n",
       "      <td>2020</td>\n",
       "      <td>21590</td>\n",
       "      <td>61215</td>\n",
       "      <td>neutral</td>\n",
       "      <td>13</td>\n",
       "      <td>3</td>\n",
       "    </tr>\n",
       "    <tr>\n",
       "      <th>4</th>\n",
       "      <td>2022</td>\n",
       "      <td>23990</td>\n",
       "      <td>93881</td>\n",
       "      <td>neutral</td>\n",
       "      <td>13</td>\n",
       "      <td>2</td>\n",
       "    </tr>\n",
       "    <tr>\n",
       "      <th>...</th>\n",
       "      <td>...</td>\n",
       "      <td>...</td>\n",
       "      <td>...</td>\n",
       "      <td>...</td>\n",
       "      <td>...</td>\n",
       "      <td>...</td>\n",
       "    </tr>\n",
       "    <tr>\n",
       "      <th>2901</th>\n",
       "      <td>2025</td>\n",
       "      <td>34305</td>\n",
       "      <td>0</td>\n",
       "      <td>bueno</td>\n",
       "      <td>30</td>\n",
       "      <td>5</td>\n",
       "    </tr>\n",
       "    <tr>\n",
       "      <th>2902</th>\n",
       "      <td>2025</td>\n",
       "      <td>28885</td>\n",
       "      <td>0</td>\n",
       "      <td>bueno</td>\n",
       "      <td>30</td>\n",
       "      <td>0</td>\n",
       "    </tr>\n",
       "    <tr>\n",
       "      <th>2903</th>\n",
       "      <td>2025</td>\n",
       "      <td>49400</td>\n",
       "      <td>3500</td>\n",
       "      <td>neutral</td>\n",
       "      <td>29</td>\n",
       "      <td>2</td>\n",
       "    </tr>\n",
       "    <tr>\n",
       "      <th>2904</th>\n",
       "      <td>2025</td>\n",
       "      <td>44600</td>\n",
       "      <td>0</td>\n",
       "      <td>bueno</td>\n",
       "      <td>30</td>\n",
       "      <td>1</td>\n",
       "    </tr>\n",
       "    <tr>\n",
       "      <th>2905</th>\n",
       "      <td>2022</td>\n",
       "      <td>28900</td>\n",
       "      <td>35200</td>\n",
       "      <td>bueno</td>\n",
       "      <td>29</td>\n",
       "      <td>2</td>\n",
       "    </tr>\n",
       "  </tbody>\n",
       "</table>\n",
       "<p>2905 rows × 6 columns</p>\n",
       "</div>"
      ],
      "text/plain": [
       "      year  price     km prediccion  car_type_encoded  car_color_encoded\n",
       "0     2021  19490  85977    neutral                13                  5\n",
       "1     2017  16490  48836    neutral                 0                  2\n",
       "2     2022  40790  54486    neutral                26                  5\n",
       "3     2020  21590  61215    neutral                13                  3\n",
       "4     2022  23990  93881    neutral                13                  2\n",
       "...    ...    ...    ...        ...               ...                ...\n",
       "2901  2025  34305      0      bueno                30                  5\n",
       "2902  2025  28885      0      bueno                30                  0\n",
       "2903  2025  49400   3500    neutral                29                  2\n",
       "2904  2025  44600      0      bueno                30                  1\n",
       "2905  2022  28900  35200      bueno                29                  2\n",
       "\n",
       "[2905 rows x 6 columns]"
      ]
     },
     "execution_count": 26,
     "metadata": {},
     "output_type": "execute_result"
    }
   ],
   "source": [
    "df.drop(columns='car_type', axis=1, inplace=True)\n",
    "df"
   ]
  },
  {
   "cell_type": "code",
   "execution_count": 27,
   "id": "dd35975b",
   "metadata": {},
   "outputs": [],
   "source": [
    "df_shuffled = df.sample(frac=1, random_state=689).reset_index(drop=True)"
   ]
  },
  {
   "cell_type": "code",
   "execution_count": 31,
   "id": "050471f5",
   "metadata": {},
   "outputs": [],
   "source": [
    "df_sin_predi = df_shuffled.drop(columns=['prediccion'])"
   ]
  },
  {
   "cell_type": "code",
   "execution_count": 32,
   "id": "eee2045f",
   "metadata": {},
   "outputs": [],
   "source": [
    "X = df_sin_predi.drop(columns=['price'])\n",
    "y = df_sin_predi['price']"
   ]
  },
  {
   "cell_type": "code",
   "execution_count": 33,
   "id": "9c851470",
   "metadata": {},
   "outputs": [],
   "source": [
    "X_train, X_test, y_train, y_test = train_test_split(X, y, test_size=0.2, random_state=689)"
   ]
  },
  {
   "cell_type": "code",
   "execution_count": 41,
   "id": "6059b986",
   "metadata": {},
   "outputs": [
    {
     "data": {
      "text/plain": [
       "1420    24900\n",
       "1945    29990\n",
       "477     16990\n",
       "1820    24490\n",
       "983     21890\n",
       "        ...  \n",
       "941     37500\n",
       "374     12990\n",
       "2213    25990\n",
       "514     34500\n",
       "1528    25290\n",
       "Name: price, Length: 2324, dtype: int64"
      ]
     },
     "execution_count": 41,
     "metadata": {},
     "output_type": "execute_result"
    }
   ],
   "source": [
    "y_train"
   ]
  },
  {
   "cell_type": "code",
   "execution_count": 42,
   "id": "e18015ee",
   "metadata": {},
   "outputs": [
    {
     "name": "stdout",
     "output_type": "stream",
     "text": [
      "Mean Squared Error: 10468.956174008476\n"
     ]
    }
   ],
   "source": [
    "modelo_random_forest = RandomForestRegressor(n_estimators=50, criterion='poisson', max_depth=10, random_state=42)\n",
    "\n",
    "modelo_random_forest.fit(X_train, y_train)\n",
    "\n",
    "y_pred = modelo_random_forest.predict(X_test)\n",
    "\n",
    "rmse = root_mean_squared_error(y_test, y_pred)\n",
    "print(f'Mean Squared Error: {rmse}')\n",
    "\n"
   ]
  },
  {
   "cell_type": "code",
   "execution_count": 38,
   "id": "d195d6bc",
   "metadata": {},
   "outputs": [
    {
     "data": {
      "text/plain": [
       "array([0.28630231, 0.22043331, 0.44112955, 0.05213483])"
      ]
     },
     "execution_count": 38,
     "metadata": {},
     "output_type": "execute_result"
    }
   ],
   "source": [
    "modelo_random_forest.feature_importances_"
   ]
  }
 ],
 "metadata": {
  "kernelspec": {
   "display_name": "Python 3",
   "language": "python",
   "name": "python3"
  },
  "language_info": {
   "codemirror_mode": {
    "name": "ipython",
    "version": 3
   },
   "file_extension": ".py",
   "mimetype": "text/x-python",
   "name": "python",
   "nbconvert_exporter": "python",
   "pygments_lexer": "ipython3",
   "version": "3.13.0"
  }
 },
 "nbformat": 4,
 "nbformat_minor": 5
}
